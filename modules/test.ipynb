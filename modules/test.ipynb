{
 "cells": [
  {
   "cell_type": "code",
   "execution_count": 1,
   "metadata": {
    "collapsed": true
   },
   "outputs": [
    {
     "name": "stdout",
     "output_type": "stream",
     "text": [
      "[[0, 0], [0, 1], [1, 1], [1, 0], [0, 0], [-1, 0], [-1, -1], [0, -1], [0, 0], [1, 0], [2, 0], [2, 1], [2, 0], [1, 0], [1, 1], [1, 0], [1, 1], [1, 2]]\n"
     ]
    }
   ],
   "source": [
    "tab_test = [[0, 0], [0, 1], [1,1], [1, 0], [0, 0], [-1, 0], [-1, -1], [0, -1], [0, 0], [1, 0], [2, 0], [2, 1], [2, 0], [1, 0], [1, 1], [1, 0], [1, 1], [1, 2]]\n",
    "#[[0, 0], [1, 0], [1, 1]] /14\n",
    "\n",
    "elem = 0\n",
    "print(tab_test)"
   ]
  },
  {
   "cell_type": "code",
   "execution_count": 105,
   "metadata": {},
   "outputs": [
    {
     "name": "stdout",
     "output_type": "stream",
     "text": [
      "[[0, 0], [1, 0], [1, 1], [1, 2]]\n14\n"
     ]
    }
   ],
   "source": [
    "temp = []\n",
    "base_len = len(tab_test)\n",
    "change = True\n",
    "\n",
    "temp = tab_test\n",
    "\n",
    "for i in range(len(temp)):\n",
    "    for j in range(len(temp) - i - 1):\n",
    "        if temp[i] == temp[i + j + 1]:\n",
    "            temp = temp[:i] + temp[j + i + 1:]\n",
    "            break\n",
    "            \n",
    "    \n",
    "\n",
    "elem = base_len - len(temp)    \n",
    "print(temp) \n",
    "print(elem)"
   ]
  },
  {
   "cell_type": "code",
   "execution_count": 2,
   "metadata": {},
   "outputs": [
    {
     "name": "stdout",
     "output_type": "stream",
     "text": [
      "[[0, 0], [1, 0], [1, 1], [1, 2]]\n14\n"
     ]
    }
   ],
   "source": [
    "temp = []\n",
    "base_len = len(tab_test)\n",
    "change = True\n",
    "\n",
    "temp = tab_test\n",
    "\n",
    "while change:\n",
    "    change = False\n",
    "    for i in range(len(temp)):\n",
    "        for j in range(len(temp) - i - 1):\n",
    "            if temp[i] == temp[i + j + 1]:\n",
    "                temp = temp[:i] + temp[j + i  + 1:]\n",
    "                change = True\n",
    "                break\n",
    "\n",
    "    \n",
    "\n",
    "elem = len(tab_test) - len(temp)    \n",
    "print(temp) \n",
    "print(elem)"
   ]
  },
  {
   "cell_type": "code",
   "execution_count": null,
   "metadata": {},
   "outputs": [],
   "source": []
  }
 ],
 "metadata": {
  "kernelspec": {
   "display_name": "Python 2",
   "language": "python",
   "name": "python2"
  },
  "language_info": {
   "codemirror_mode": {
    "name": "ipython",
    "version": 2
   },
   "file_extension": ".py",
   "mimetype": "text/x-python",
   "name": "python",
   "nbconvert_exporter": "python",
   "pygments_lexer": "ipython2",
   "version": "2.7.6"
  }
 },
 "nbformat": 4,
 "nbformat_minor": 0
}
